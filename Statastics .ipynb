{
 "cells": [
  {
   "cell_type": "code",
   "execution_count": null,
   "id": "00db511e",
   "metadata": {},
   "outputs": [],
   "source": [
    "import numpy as np\n",
    "import pandas as pd\n",
    "import seaborn as sns\n",
    "from matplotlib import pyplot as plt\n"
   ]
  },
  {
   "cell_type": "code",
   "execution_count": null,
   "id": "f9bb29e6",
   "metadata": {},
   "outputs": [],
   "source": [
    "mydata= pd.read_excel('D:\\\\Python files\\\\CardioData.xlsx')"
   ]
  },
  {
   "cell_type": "code",
   "execution_count": null,
   "id": "8adb48a2",
   "metadata": {},
   "outputs": [],
   "source": [
    "mydata.sample()"
   ]
  },
  {
   "cell_type": "code",
   "execution_count": null,
   "id": "c19f5dd0",
   "metadata": {},
   "outputs": [],
   "source": [
    "mydata.sample(5)"
   ]
  },
  {
   "cell_type": "code",
   "execution_count": null,
   "id": "d8547067",
   "metadata": {},
   "outputs": [],
   "source": [
    "mydata.shape"
   ]
  },
  {
   "cell_type": "code",
   "execution_count": null,
   "id": "07662db0",
   "metadata": {},
   "outputs": [],
   "source": [
    "mydata.columns"
   ]
  },
  {
   "cell_type": "code",
   "execution_count": null,
   "id": "15ad34a4",
   "metadata": {},
   "outputs": [],
   "source": [
    "mydata.describe()"
   ]
  },
  {
   "cell_type": "code",
   "execution_count": null,
   "id": "27533e49",
   "metadata": {},
   "outputs": [],
   "source": [
    "mydata.describe(include=\"all\")"
   ]
  },
  {
   "cell_type": "code",
   "execution_count": null,
   "id": "d7673cf7",
   "metadata": {},
   "outputs": [],
   "source": [
    "mydata.info()"
   ]
  },
  {
   "cell_type": "code",
   "execution_count": null,
   "id": "3f3cafc4",
   "metadata": {},
   "outputs": [],
   "source": [
    "mydata.isnull().sum()"
   ]
  },
  {
   "cell_type": "code",
   "execution_count": null,
   "id": "efddaebe",
   "metadata": {},
   "outputs": [],
   "source": [
    "mydata.dtypes"
   ]
  },
  {
   "cell_type": "code",
   "execution_count": null,
   "id": "d4b09b6f",
   "metadata": {},
   "outputs": [],
   "source": [
    "mydata.hist(figsize=(10,20))"
   ]
  },
  {
   "cell_type": "code",
   "execution_count": null,
   "id": "3995a54e",
   "metadata": {},
   "outputs": [],
   "source": [
    "import seaborn as sns\n",
    "sns.boxplot(x=\"Product\", y=\"Age\", data=mydata)"
   ]
  },
  {
   "cell_type": "code",
   "execution_count": null,
   "id": "d7f92a38",
   "metadata": {},
   "outputs": [],
   "source": [
    "pd.crosstab(mydata['Product'], mydata['Gender'])"
   ]
  },
  {
   "cell_type": "code",
   "execution_count": null,
   "id": "ac45bed0",
   "metadata": {},
   "outputs": [],
   "source": [
    "sns.countplot(x=\"Product\", hue=\"Gender\",data=mydata)"
   ]
  },
  {
   "cell_type": "code",
   "execution_count": null,
   "id": "31065bcc",
   "metadata": {},
   "outputs": [],
   "source": [
    "pd.pivot_table(mydata,index=['Product','Gender'], columns=['MaritalStatus'],aggfunc=len)"
   ]
  },
  {
   "cell_type": "code",
   "execution_count": null,
   "id": "76307eea",
   "metadata": {},
   "outputs": [],
   "source": [
    "pd.pivot_table(mydata, 'Income',index=['Product','Gender'], columns=['MaritalStatus'])"
   ]
  },
  {
   "cell_type": "code",
   "execution_count": null,
   "id": "01b6892b",
   "metadata": {},
   "outputs": [],
   "source": [
    "pd.pivot_table(mydata, 'Miles',index=['Product','Gender'], columns=['MaritalStatus'])"
   ]
  },
  {
   "cell_type": "code",
   "execution_count": null,
   "id": "3b58bbdd",
   "metadata": {},
   "outputs": [],
   "source": [
    "sns.pairplot(mydata,diag_kind='kde')"
   ]
  },
  {
   "cell_type": "code",
   "execution_count": null,
   "id": "fa51d08e",
   "metadata": {},
   "outputs": [],
   "source": [
    "mydata['Age'].std()"
   ]
  },
  {
   "cell_type": "code",
   "execution_count": null,
   "id": "959a4b4a",
   "metadata": {},
   "outputs": [],
   "source": [
    "mydata['Age'].mean()"
   ]
  },
  {
   "cell_type": "code",
   "execution_count": null,
   "id": "04216c23",
   "metadata": {},
   "outputs": [],
   "source": [
    "mydata.hist(by='Gender', column='Age')"
   ]
  },
  {
   "cell_type": "code",
   "execution_count": null,
   "id": "38ada3eb",
   "metadata": {},
   "outputs": [],
   "source": [
    "mydata.hist(by='Gender', column='Income')"
   ]
  },
  {
   "cell_type": "code",
   "execution_count": null,
   "id": "5b803426",
   "metadata": {},
   "outputs": [],
   "source": [
    "mydata.hist(by='Gender', column='Miles')"
   ]
  },
  {
   "cell_type": "code",
   "execution_count": null,
   "id": "d34f8c5d",
   "metadata": {},
   "outputs": [],
   "source": [
    "mydata.hist(by='Product', column='Miles')"
   ]
  },
  {
   "cell_type": "code",
   "execution_count": null,
   "id": "64e1dda6",
   "metadata": {},
   "outputs": [],
   "source": [
    "corr=mydata.corr()\n",
    "corr"
   ]
  },
  {
   "cell_type": "code",
   "execution_count": null,
   "id": "86bb023f",
   "metadata": {},
   "outputs": [],
   "source": [
    "sns.heatmap(corr, annot=True)"
   ]
  },
  {
   "cell_type": "code",
   "execution_count": null,
   "id": "fbb7194b",
   "metadata": {},
   "outputs": [],
   "source": []
  }
 ],
 "metadata": {
  "kernelspec": {
   "display_name": "Python 3 (ipykernel)",
   "language": "python",
   "name": "python3"
  },
  "language_info": {
   "codemirror_mode": {
    "name": "ipython",
    "version": 3
   },
   "file_extension": ".py",
   "mimetype": "text/x-python",
   "name": "python",
   "nbconvert_exporter": "python",
   "pygments_lexer": "ipython3",
   "version": "3.9.7"
  }
 },
 "nbformat": 4,
 "nbformat_minor": 5
}
