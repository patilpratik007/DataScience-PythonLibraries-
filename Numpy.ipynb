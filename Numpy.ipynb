{
 "cells": [
  {
   "cell_type": "markdown",
   "id": "b0023644",
   "metadata": {},
   "source": [
    "## Create an array"
   ]
  },
  {
   "cell_type": "code",
   "execution_count": null,
   "id": "ecf421e2",
   "metadata": {},
   "outputs": [],
   "source": [
    "import numpy as np\n",
    "simple_list= [1,2,3]\n",
    "np.array(simple_list)"
   ]
  },
  {
   "cell_type": "code",
   "execution_count": null,
   "id": "4264b794",
   "metadata": {},
   "outputs": [],
   "source": [
    "np.arange(10,20)"
   ]
  },
  {
   "cell_type": "code",
   "execution_count": null,
   "id": "7320de2f",
   "metadata": {},
   "outputs": [],
   "source": [
    "np.arange(10,20,2)"
   ]
  },
  {
   "cell_type": "code",
   "execution_count": null,
   "id": "ce1e8d78",
   "metadata": {},
   "outputs": [],
   "source": [
    "np.arange(10,98,2)"
   ]
  },
  {
   "cell_type": "code",
   "execution_count": null,
   "id": "f5c76583",
   "metadata": {},
   "outputs": [],
   "source": [
    "np.zeros(6)"
   ]
  },
  {
   "cell_type": "code",
   "execution_count": null,
   "id": "883a4600",
   "metadata": {},
   "outputs": [],
   "source": [
    "np.zeros(6, dtype=int)"
   ]
  },
  {
   "cell_type": "code",
   "execution_count": null,
   "id": "3f7e6a5c",
   "metadata": {},
   "outputs": [],
   "source": [
    "np.ones(5)"
   ]
  },
  {
   "cell_type": "code",
   "execution_count": null,
   "id": "eba3ad46",
   "metadata": {},
   "outputs": [],
   "source": [
    "np.ones((2,5), dtype=int)"
   ]
  },
  {
   "cell_type": "code",
   "execution_count": null,
   "id": "a4e7a72c",
   "metadata": {},
   "outputs": [],
   "source": [
    "np.linspace(0,1,5)"
   ]
  },
  {
   "cell_type": "code",
   "execution_count": null,
   "id": "606beaba",
   "metadata": {},
   "outputs": [],
   "source": [
    "np.eye(4)"
   ]
  },
  {
   "cell_type": "code",
   "execution_count": null,
   "id": "98b5ead2",
   "metadata": {},
   "outputs": [],
   "source": [
    "np.random.rand(2,4)"
   ]
  },
  {
   "cell_type": "code",
   "execution_count": null,
   "id": "9a2f0a9b",
   "metadata": {},
   "outputs": [],
   "source": [
    "np.random.randn(2,4)"
   ]
  },
  {
   "cell_type": "code",
   "execution_count": null,
   "id": "dcf973ce",
   "metadata": {},
   "outputs": [],
   "source": [
    "np.random.randint(1,5,10)"
   ]
  },
  {
   "cell_type": "code",
   "execution_count": null,
   "id": "85fd2e65",
   "metadata": {},
   "outputs": [],
   "source": [
    "sample_array= np.arange(2,20)\n",
    "sample_array\n"
   ]
  },
  {
   "cell_type": "markdown",
   "id": "b223dd10",
   "metadata": {},
   "source": [
    "## Two dimensional array"
   ]
  },
  {
   "cell_type": "code",
   "execution_count": null,
   "id": "83c01880",
   "metadata": {},
   "outputs": [],
   "source": [
    "import numpy as np \n",
    "sample_matrix= np.array([[24,13,2,15],[15,2,54,65],[56,76,24,7]])\n",
    "sample_matrix\n"
   ]
  },
  {
   "cell_type": "code",
   "execution_count": null,
   "id": "200bc854",
   "metadata": {},
   "outputs": [],
   "source": [
    "sample_matrix[2][2]"
   ]
  },
  {
   "cell_type": "code",
   "execution_count": null,
   "id": "aa362a7a",
   "metadata": {},
   "outputs": [],
   "source": [
    "sample_matrix[1][3]"
   ]
  },
  {
   "cell_type": "code",
   "execution_count": null,
   "id": "bfec4e2d",
   "metadata": {},
   "outputs": [],
   "source": [
    "sample_matrix[:,3]"
   ]
  },
  {
   "cell_type": "code",
   "execution_count": null,
   "id": "804ca5a2",
   "metadata": {},
   "outputs": [],
   "source": [
    "sample_matrix[2,2]"
   ]
  },
  {
   "cell_type": "code",
   "execution_count": null,
   "id": "32407489",
   "metadata": {},
   "outputs": [],
   "source": [
    "sample_matrix[1:3,2:4]"
   ]
  },
  {
   "cell_type": "code",
   "execution_count": null,
   "id": "ea2dc3ff",
   "metadata": {},
   "outputs": [],
   "source": [
    "sample_matrix[1:,2:]"
   ]
  },
  {
   "cell_type": "code",
   "execution_count": null,
   "id": "85457c34",
   "metadata": {},
   "outputs": [],
   "source": []
  }
 ],
 "metadata": {
  "kernelspec": {
   "display_name": "Python 3 (ipykernel)",
   "language": "python",
   "name": "python3"
  },
  "language_info": {
   "codemirror_mode": {
    "name": "ipython",
    "version": 3
   },
   "file_extension": ".py",
   "mimetype": "text/x-python",
   "name": "python",
   "nbconvert_exporter": "python",
   "pygments_lexer": "ipython3",
   "version": "3.9.7"
  }
 },
 "nbformat": 4,
 "nbformat_minor": 5
}
